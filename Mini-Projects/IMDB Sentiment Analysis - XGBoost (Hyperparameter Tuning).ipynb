{
 "cells": [
  {
   "cell_type": "markdown",
   "metadata": {},
   "source": [
    "# Sentiment Analysis\n",
    "\n",
    "## Using XGBoost in SageMaker\n",
    "\n",
    "_Deep Learning Nanodegree Program | Deployment_\n",
    "\n",
    "---\n",
    "\n",
    "In this example of using Amazon's SageMaker service we will construct a random tree model to predict the sentiment of a movie review. You may have seen a version of this example in a pervious lesson although it would have been done using the sklearn package. Instead, we will be using the XGBoost package as it is provided to us by Amazon.\n",
    "\n",
    "## Instructions\n",
    "\n",
    "Some template code has already been provided for you, and you will need to implement additional functionality to successfully complete this notebook. You will not need to modify the included code beyond what is requested. Sections that begin with '**TODO**' in the header indicate that you need to complete or implement some portion within them. Instructions will be provided for each section and the specifics of the implementation are marked in the code block with a `# TODO: ...` comment. Please be sure to read the instructions carefully!\n",
    "\n",
    "In addition to implementing code, there will be questions for you to answer which relate to the task and your implementation. Each section where you will answer a question is preceded by a '**Question:**' header. Carefully read each question and provide your answer below the '**Answer:**' header by editing the Markdown cell.\n",
    "\n",
    "> **Note**: Code and Markdown cells can be executed using the **Shift+Enter** keyboard shortcut. In addition, a cell can be edited by typically clicking it (double-click for Markdown cells) or by pressing **Enter** while it is highlighted."
   ]
  },
  {
   "cell_type": "markdown",
   "metadata": {},
   "source": [
    "## Step 1: Downloading the data\n",
    "\n",
    "The dataset we are going to use is very popular among researchers in Natural Language Processing, usually referred to as the [IMDb dataset](http://ai.stanford.edu/~amaas/data/sentiment/). It consists of movie reviews from the website [imdb.com](http://www.imdb.com/), each labeled as either '**pos**itive', if the reviewer enjoyed the film, or '**neg**ative' otherwise.\n",
    "\n",
    "> Maas, Andrew L., et al. [Learning Word Vectors for Sentiment Analysis](http://ai.stanford.edu/~amaas/data/sentiment/). In _Proceedings of the 49th Annual Meeting of the Association for Computational Linguistics: Human Language Technologies_. Association for Computational Linguistics, 2011.\n",
    "\n",
    "We begin by using some Jupyter Notebook magic to download and extract the dataset."
   ]
  },
  {
   "cell_type": "code",
   "execution_count": 1,
   "metadata": {},
   "outputs": [
    {
     "name": "stdout",
     "output_type": "stream",
     "text": [
      "mkdir: cannot create directory ‘../data’: File exists\n",
      "--2019-04-18 18:30:43--  http://ai.stanford.edu/~amaas/data/sentiment/aclImdb_v1.tar.gz\n",
      "Resolving ai.stanford.edu (ai.stanford.edu)... 171.64.68.10\n",
      "Connecting to ai.stanford.edu (ai.stanford.edu)|171.64.68.10|:80... connected.\n",
      "HTTP request sent, awaiting response... 200 OK\n",
      "Length: 84125825 (80M) [application/x-gzip]\n",
      "Saving to: ‘../data/aclImdb_v1.tar.gz’\n",
      "\n",
      "../data/aclImdb_v1. 100%[===================>]  80.23M  48.0MB/s    in 1.7s    \n",
      "\n",
      "2019-04-18 18:30:45 (48.0 MB/s) - ‘../data/aclImdb_v1.tar.gz’ saved [84125825/84125825]\n",
      "\n"
     ]
    }
   ],
   "source": [
    "%mkdir ../data\n",
    "!wget -O ../data/aclImdb_v1.tar.gz http://ai.stanford.edu/~amaas/data/sentiment/aclImdb_v1.tar.gz\n",
    "!tar -zxf ../data/aclImdb_v1.tar.gz -C ../data"
   ]
  },
  {
   "cell_type": "markdown",
   "metadata": {},
   "source": [
    "## Step 2: Preparing the data\n",
    "\n",
    "The data we have downloaded is split into various files, each of which contains a single review. It will be much easier going forward if we combine these individual files into two large files, one for training and one for testing."
   ]
  },
  {
   "cell_type": "code",
   "execution_count": 2,
   "metadata": {},
   "outputs": [],
   "source": [
    "import os\n",
    "import glob\n",
    "\n",
    "def read_imdb_data(data_dir='../data/aclImdb'):\n",
    "    data = {}\n",
    "    labels = {}\n",
    "    \n",
    "    for data_type in ['train', 'test']:\n",
    "        data[data_type] = {}\n",
    "        labels[data_type] = {}\n",
    "        \n",
    "        for sentiment in ['pos', 'neg']:\n",
    "            data[data_type][sentiment] = []\n",
    "            labels[data_type][sentiment] = []\n",
    "            \n",
    "            path = os.path.join(data_dir, data_type, sentiment, '*.txt')\n",
    "            files = glob.glob(path)\n",
    "            \n",
    "            for f in files:\n",
    "                with open(f) as review:\n",
    "                    data[data_type][sentiment].append(review.read())\n",
    "                    # Here we represent a positive review by '1' and a negative review by '0'\n",
    "                    labels[data_type][sentiment].append(1 if sentiment == 'pos' else 0)\n",
    "                    \n",
    "            assert len(data[data_type][sentiment]) == len(labels[data_type][sentiment]), \\\n",
    "                    \"{}/{} data size does not match labels size\".format(data_type, sentiment)\n",
    "                \n",
    "    return data, labels"
   ]
  },
  {
   "cell_type": "code",
   "execution_count": 3,
   "metadata": {},
   "outputs": [
    {
     "name": "stdout",
     "output_type": "stream",
     "text": [
      "IMDB reviews: train = 12500 pos / 12500 neg, test = 12500 pos / 12500 neg\n"
     ]
    }
   ],
   "source": [
    "data, labels = read_imdb_data()\n",
    "print(\"IMDB reviews: train = {} pos / {} neg, test = {} pos / {} neg\".format(\n",
    "            len(data['train']['pos']), len(data['train']['neg']),\n",
    "            len(data['test']['pos']), len(data['test']['neg'])))"
   ]
  },
  {
   "cell_type": "code",
   "execution_count": 4,
   "metadata": {},
   "outputs": [],
   "source": [
    "from sklearn.utils import shuffle\n",
    "\n",
    "def prepare_imdb_data(data, labels):\n",
    "    \"\"\"Prepare training and test sets from IMDb movie reviews.\"\"\"\n",
    "    \n",
    "    #Combine positive and negative reviews and labels\n",
    "    data_train = data['train']['pos'] + data['train']['neg']\n",
    "    data_test = data['test']['pos'] + data['test']['neg']\n",
    "    labels_train = labels['train']['pos'] + labels['train']['neg']\n",
    "    labels_test = labels['test']['pos'] + labels['test']['neg']\n",
    "    \n",
    "    #Shuffle reviews and corresponding labels within training and test sets\n",
    "    data_train, labels_train = shuffle(data_train, labels_train)\n",
    "    data_test, labels_test = shuffle(data_test, labels_test)\n",
    "    \n",
    "    # Return a unified training data, test data, training labels, test labets\n",
    "    return data_train, data_test, labels_train, labels_test"
   ]
  },
  {
   "cell_type": "code",
   "execution_count": 31,
   "metadata": {},
   "outputs": [
    {
     "name": "stdout",
     "output_type": "stream",
     "text": [
      "IMDb reviews (combined): train = 25000, test = 25000\n"
     ]
    }
   ],
   "source": [
    "train_X, test_X, train_y, test_y = prepare_imdb_data(data, labels)\n",
    "print(\"IMDb reviews (combined): train = {}, test = {}\".format(len(train_X), len(test_X)))"
   ]
  },
  {
   "cell_type": "code",
   "execution_count": 32,
   "metadata": {},
   "outputs": [
    {
     "data": {
      "text/plain": [
       "\"There aren't many good things to say at all about Underneath, Soderbergh's untrue endeavor into neo-noir. Soderbergh remakes Robert Siodmak's decent noir Criss-Cross faithfully, not altering the plot very much at all, however the adaptation drains it of every ounce of its state-of-the-art film noir atmosphere, giving it the same story set in the very least appealing places, lifestyles and anachronisms. Soderbergh, who would later make wonderful crime films like Out of Sight and the Ocean's series with great style and atmosphere, takes the dangerously obvious route to modernization by renovating the story with the ugliest, dullest and flattest fashions of the early 1990s. Nightclubs have terrible, revoltingly dressed garage bands, Peter Gallagher's uninteresting version of Burt Lancaster's anti-hero is left by his femme fatale girlfriend for compulsively buying cinematically lifeless modern appliances like stereos, TVs, and other up to date pieces of equipment that suck the reaction out of the film.<br /><br />It could've been more entertaining and less boring had it a few saving graces like a good score, more flesh to its characters, more than just William Fichtner giving performances that aren't wooden, a crisper pace. Unfortunately, Underneath has none of these things. Soderbergh, a fine director, does not utilize his dry detachment to the benefit of his film this time. That disposition works wonderfully when he's helming a crime movie with more tongue in its cheek like the George Clooney pictures previously mentioned, or a social or character drama like Traffic or sex, lies and videotape. With a movie like Underneath, it intensifies the boredom experienced by the viewer.\""
      ]
     },
     "execution_count": 32,
     "metadata": {},
     "output_type": "execute_result"
    }
   ],
   "source": [
    "train_X[100]"
   ]
  },
  {
   "cell_type": "markdown",
   "metadata": {},
   "source": [
    "## Step 3: Processing the data\n",
    "\n",
    "Now that we have our training and testing datasets merged and ready to use, we need to start processing the raw data into something that will be useable by our machine learning algorithm. To begin with, we remove any html formatting that may appear in the reviews and perform some standard natural language processing in order to homogenize the data."
   ]
  },
  {
   "cell_type": "code",
   "execution_count": 33,
   "metadata": {},
   "outputs": [
    {
     "name": "stdout",
     "output_type": "stream",
     "text": [
      "[nltk_data] Downloading package stopwords to\n",
      "[nltk_data]     /home/ec2-user/nltk_data...\n",
      "[nltk_data]   Package stopwords is already up-to-date!\n"
     ]
    }
   ],
   "source": [
    "import nltk\n",
    "nltk.download(\"stopwords\")\n",
    "from nltk.corpus import stopwords\n",
    "from nltk.stem.porter import *\n",
    "stemmer = PorterStemmer()"
   ]
  },
  {
   "cell_type": "code",
   "execution_count": 34,
   "metadata": {},
   "outputs": [],
   "source": [
    "import re\n",
    "from bs4 import BeautifulSoup\n",
    "\n",
    "def review_to_words(review):\n",
    "    text = BeautifulSoup(review, \"html.parser\").get_text() # Remove HTML tags\n",
    "    text = re.sub(r\"[^a-zA-Z0-9]\", \" \", text.lower()) # Convert to lower case\n",
    "    words = text.split() # Split string into words\n",
    "    words = [w for w in words if w not in stopwords.words(\"english\")] # Remove stopwords\n",
    "    words = [PorterStemmer().stem(w) for w in words] # stem\n",
    "    \n",
    "    return words"
   ]
  },
  {
   "cell_type": "code",
   "execution_count": 35,
   "metadata": {},
   "outputs": [],
   "source": [
    "import pickle\n",
    "\n",
    "cache_dir = os.path.join(\"../cache\", \"sentiment_analysis\")  # where to store cache files\n",
    "os.makedirs(cache_dir, exist_ok=True)  # ensure cache directory exists\n",
    "\n",
    "def preprocess_data(data_train, data_test, labels_train, labels_test,\n",
    "                    cache_dir=cache_dir, cache_file=\"preprocessed_data.pkl\"):\n",
    "    \"\"\"Convert each review to words; read from cache if available.\"\"\"\n",
    "\n",
    "    # If cache_file is not None, try to read from it first\n",
    "    cache_data = None\n",
    "    if cache_file is not None:\n",
    "        try:\n",
    "            with open(os.path.join(cache_dir, cache_file), \"rb\") as f:\n",
    "                cache_data = pickle.load(f)\n",
    "            print(\"Read preprocessed data from cache file:\", cache_file)\n",
    "        except:\n",
    "            pass  # unable to read from cache, but that's okay\n",
    "    \n",
    "    # If cache is missing, then do the heavy lifting\n",
    "    if cache_data is None:\n",
    "        # Preprocess training and test data to obtain words for each review\n",
    "        #words_train = list(map(review_to_words, data_train))\n",
    "        #words_test = list(map(review_to_words, data_test))\n",
    "        words_train = [review_to_words(review) for review in data_train]\n",
    "        words_test = [review_to_words(review) for review in data_test]\n",
    "        \n",
    "        # Write to cache file for future runs\n",
    "        if cache_file is not None:\n",
    "            cache_data = dict(words_train=words_train, words_test=words_test,\n",
    "                              labels_train=labels_train, labels_test=labels_test)\n",
    "            with open(os.path.join(cache_dir, cache_file), \"wb\") as f:\n",
    "                pickle.dump(cache_data, f)\n",
    "            print(\"Wrote preprocessed data to cache file:\", cache_file)\n",
    "    else:\n",
    "        # Unpack data loaded from cache file\n",
    "        words_train, words_test, labels_train, labels_test = (cache_data['words_train'],\n",
    "                cache_data['words_test'], cache_data['labels_train'], cache_data['labels_test'])\n",
    "    \n",
    "    return words_train, words_test, labels_train, labels_test"
   ]
  },
  {
   "cell_type": "code",
   "execution_count": 36,
   "metadata": {},
   "outputs": [
    {
     "name": "stdout",
     "output_type": "stream",
     "text": [
      "Read preprocessed data from cache file: preprocessed_data.pkl\n"
     ]
    }
   ],
   "source": [
    "# Preprocess data\n",
    "train_X, test_X, train_y, test_y = preprocess_data(train_X, test_X, train_y, test_y)"
   ]
  },
  {
   "cell_type": "markdown",
   "metadata": {},
   "source": [
    "### Extract Bag-of-Words features\n",
    "\n",
    "For the model we will be implementing, rather than using the reviews directly, we are going to transform each review into a Bag-of-Words feature representation. Keep in mind that 'in the wild' we will only have access to the training set so our transformer can only use the training set to construct a representation."
   ]
  },
  {
   "cell_type": "code",
   "execution_count": 37,
   "metadata": {},
   "outputs": [],
   "source": [
    "import numpy as np\n",
    "from sklearn.feature_extraction.text import CountVectorizer\n",
    "from sklearn.externals import joblib\n",
    "# joblib is an enhanced version of pickle that is more efficient for storing NumPy arrays\n",
    "\n",
    "def extract_BoW_features(words_train, words_test, vocabulary_size=5000,\n",
    "                         cache_dir=cache_dir, cache_file=\"bow_features.pkl\"):\n",
    "    \"\"\"Extract Bag-of-Words for a given set of documents, already preprocessed into words.\"\"\"\n",
    "    \n",
    "    # If cache_file is not None, try to read from it first\n",
    "    cache_data = None\n",
    "    if cache_file is not None:\n",
    "        try:\n",
    "            with open(os.path.join(cache_dir, cache_file), \"rb\") as f:\n",
    "                cache_data = joblib.load(f)\n",
    "            print(\"Read features from cache file:\", cache_file)\n",
    "        except:\n",
    "            pass  # unable to read from cache, but that's okay\n",
    "    \n",
    "    # If cache is missing, then do the heavy lifting\n",
    "    if cache_data is None:\n",
    "        # Fit a vectorizer to training documents and use it to transform them\n",
    "        # NOTE: Training documents have already been preprocessed and tokenized into words;\n",
    "        #       pass in dummy functions to skip those steps, e.g. preprocessor=lambda x: x\n",
    "        vectorizer = CountVectorizer(max_features=vocabulary_size,\n",
    "                preprocessor=lambda x: x, tokenizer=lambda x: x)  # already preprocessed\n",
    "        features_train = vectorizer.fit_transform(words_train).toarray()\n",
    "\n",
    "        # Apply the same vectorizer to transform the test documents (ignore unknown words)\n",
    "        features_test = vectorizer.transform(words_test).toarray()\n",
    "        \n",
    "        # NOTE: Remember to convert the features using .toarray() for a compact representation\n",
    "        \n",
    "        # Write to cache file for future runs (store vocabulary as well)\n",
    "        if cache_file is not None:\n",
    "            vocabulary = vectorizer.vocabulary_\n",
    "            cache_data = dict(features_train=features_train, features_test=features_test,\n",
    "                             vocabulary=vocabulary)\n",
    "            with open(os.path.join(cache_dir, cache_file), \"wb\") as f:\n",
    "                joblib.dump(cache_data, f)\n",
    "            print(\"Wrote features to cache file:\", cache_file)\n",
    "    else:\n",
    "        # Unpack data loaded from cache file\n",
    "        features_train, features_test, vocabulary = (cache_data['features_train'],\n",
    "                cache_data['features_test'], cache_data['vocabulary'])\n",
    "    \n",
    "    # Return both the extracted features as well as the vocabulary\n",
    "    return features_train, features_test, vocabulary"
   ]
  },
  {
   "cell_type": "code",
   "execution_count": 38,
   "metadata": {},
   "outputs": [
    {
     "name": "stdout",
     "output_type": "stream",
     "text": [
      "Read features from cache file: bow_features.pkl\n"
     ]
    }
   ],
   "source": [
    "# Extract Bag of Words features for both training and test datasets\n",
    "train_X, test_X, vocabulary = extract_BoW_features(train_X, test_X)"
   ]
  },
  {
   "cell_type": "markdown",
   "metadata": {},
   "source": [
    "## Step 4: Classification using XGBoost\n",
    "\n",
    "Now that we have created the feature representation of our training (and testing) data, it is time to start setting up and using the XGBoost classifier provided by SageMaker.\n",
    "\n",
    "### Writing the dataset\n",
    "\n",
    "The XGBoost classifier that we will be using requires the dataset to be written to a file and stored using Amazon S3. To do this, we will start by splitting the training dataset into two parts, the data we will train the model with and a validation set. Then, we will write those datasets to a file and upload the files to S3. In addition, we will write the test set input to a file and upload the file to S3. This is so that we can use SageMakers Batch Transform functionality to test our model once we've fit it."
   ]
  },
  {
   "cell_type": "code",
   "execution_count": 39,
   "metadata": {},
   "outputs": [],
   "source": [
    "import pandas as pd\n",
    "\n",
    "val_X = pd.DataFrame(train_X[:10000])\n",
    "train_X = pd.DataFrame(train_X[10000:])\n",
    "\n",
    "val_y = pd.DataFrame(train_y[:10000])\n",
    "train_y = pd.DataFrame(train_y[10000:])\n",
    "\n",
    "test_y = pd.DataFrame(test_y)\n",
    "test_X = pd.DataFrame(test_X)"
   ]
  },
  {
   "cell_type": "markdown",
   "metadata": {},
   "source": [
    "The documentation for the XGBoost algorithm in SageMaker requires that the saved datasets should contain no headers or index and that for the training and validation data, the label should occur first for each sample.\n",
    "\n",
    "For more information about this and other algorithms, the SageMaker developer documentation can be found on __[Amazon's website.](https://docs.aws.amazon.com/sagemaker/latest/dg/)__"
   ]
  },
  {
   "cell_type": "code",
   "execution_count": 40,
   "metadata": {},
   "outputs": [],
   "source": [
    "# First we make sure that the local directory in which we'd like to store the training and validation csv files exists.\n",
    "data_dir = '../data/xgboost'\n",
    "if not os.path.exists(data_dir):\n",
    "    os.makedirs(data_dir)"
   ]
  },
  {
   "cell_type": "code",
   "execution_count": 42,
   "metadata": {},
   "outputs": [],
   "source": [
    "# First, save the test data to test.csv in the data_dir directory. Note that we do not save the associated ground truth\n",
    "# labels, instead we will use them later to compare with our model output.\n",
    "\n",
    "test_X.to_csv(os.path.join(data_dir, 'test.csv'), header=False, index=False)\n",
    "pd.concat([val_y, val_X], axis=1).to_csv(os.path.join(data_dir, 'validation.csv'), header=False, index=False)\n",
    "pd.concat([train_y, train_X], axis=1).to_csv(os.path.join(data_dir, 'train.csv'), header=False, index=False)"
   ]
  },
  {
   "cell_type": "code",
   "execution_count": 43,
   "metadata": {},
   "outputs": [],
   "source": [
    "# To save a bit of memory we can set text_X, train_X, val_X, train_y and val_y to None.\n",
    "\n",
    "train_X = val_X = train_y = val_y = None"
   ]
  },
  {
   "cell_type": "markdown",
   "metadata": {},
   "source": [
    "### Uploading Training / Validation files to S3\n",
    "\n",
    "Amazon's S3 service allows us to store files that can be access by both the built-in training models such as the XGBoost model we will be using as well as custom models such as the one we will see a little later.\n",
    "\n",
    "For this, and most other tasks we will be doing using SageMaker, there are two methods we could use. The first is to use the low level functionality of SageMaker which requires knowing each of the objects involved in the SageMaker environment. The second is to use the high level functionality in which certain choices have been made on the user's behalf. The low level approach benefits from allowing the user a great deal of flexibility while the high level approach makes development much quicker. For our purposes we will opt to use the high level approach although using the low-level approach is certainly an option.\n",
    "\n",
    "Recall the method `upload_data()` which is a member of object representing our current SageMaker session. What this method does is upload the data to the default bucket (which is created if it does not exist) into the path described by the key_prefix variable. To see this for yourself, once you have uploaded the data files, go to the S3 console and look to see where the files have been uploaded.\n",
    "\n",
    "For additional resources, see the __[SageMaker API documentation](http://sagemaker.readthedocs.io/en/latest/)__ and in addition the __[SageMaker Developer Guide.](https://docs.aws.amazon.com/sagemaker/latest/dg/)__"
   ]
  },
  {
   "cell_type": "code",
   "execution_count": 44,
   "metadata": {},
   "outputs": [],
   "source": [
    "import sagemaker\n",
    "\n",
    "session = sagemaker.Session() # Store the current SageMaker session\n",
    "\n",
    "# S3 prefix (which folder will we use)\n",
    "prefix = 'sentiment-xgboost'\n",
    "\n",
    "test_location = session.upload_data(os.path.join(data_dir, 'test.csv'), key_prefix=prefix)\n",
    "val_location = session.upload_data(os.path.join(data_dir, 'validation.csv'), key_prefix=prefix)\n",
    "train_location = session.upload_data(os.path.join(data_dir, 'train.csv'), key_prefix=prefix)"
   ]
  },
  {
   "cell_type": "markdown",
   "metadata": {},
   "source": [
    "### (TODO) Creating a hypertuned XGBoost model\n",
    "\n",
    "Now that the data has been uploaded it is time to create the XGBoost model. As in the Boston Housing notebook, the first step is to create an estimator object which will be used as the *base* of your hyperparameter tuning job."
   ]
  },
  {
   "cell_type": "code",
   "execution_count": 18,
   "metadata": {},
   "outputs": [],
   "source": [
    "from sagemaker import get_execution_role\n",
    "\n",
    "# Our current execution role is require when creating the model as the training\n",
    "# and inference code will need to access the model artifacts.\n",
    "role = get_execution_role()"
   ]
  },
  {
   "cell_type": "code",
   "execution_count": 19,
   "metadata": {},
   "outputs": [],
   "source": [
    "# We need to retrieve the location of the container which is provided by Amazon for using XGBoost.\n",
    "# As a matter of convenience, the training and inference code both use the same container.\n",
    "from sagemaker.amazon.amazon_estimator import get_image_uri\n",
    "\n",
    "container = get_image_uri(session.boto_region_name, 'xgboost')"
   ]
  },
  {
   "cell_type": "code",
   "execution_count": 20,
   "metadata": {},
   "outputs": [],
   "source": [
    "# TODO: Create a SageMaker estimator using the container location determined in the previous cell.\n",
    "#       It is recommended that you use a single training instance of type ml.m4.xlarge. It is also\n",
    "#       recommended that you use 's3://{}/{}/output'.format(session.default_bucket(), prefix) as the\n",
    "#       output path.\n",
    "\n",
    "xgb = sagemaker.estimator.Estimator(container, # The name of the training container\n",
    "                                    role,      # The IAM role to use (our current role in this case)\n",
    "                                    train_instance_count=1, # The number of instances to use for training\n",
    "                                    train_instance_type='ml.m4.xlarge', # The type of instance ot use for training\n",
    "                                    output_path='s3://{}/{}/output'.format(session.default_bucket(), prefix),\n",
    "                                                                        # Where to save the output (the model artifacts)\n",
    "                                    sagemaker_session=session) # The current SageMaker session\n",
    "\n",
    "# TODO: Set the XGBoost hyperparameters in the xgb object. Don't forget that in this case we have a binary\n",
    "#       label so we should be using the 'binary:logistic' objective.\n",
    "\n",
    "xgb.set_hyperparameters(max_depth=5,\n",
    "                        eta=0.2,\n",
    "                        gamma=4,\n",
    "                        min_child_weight=6,\n",
    "                        subsample=0.8,\n",
    "                        objective='binary:logistic',\n",
    "                        early_stopping_rounds=10,\n",
    "                        num_round=200)"
   ]
  },
  {
   "cell_type": "markdown",
   "metadata": {},
   "source": [
    "### (TODO) Create the hyperparameter tuner\n",
    "\n",
    "Now that the base estimator has been set up we need to construct a hyperparameter tuner object which we will use to request SageMaker construct a hyperparameter tuning job.\n",
    "\n",
    "**Note:** Training a single sentiment analysis XGBoost model takes longer than training a Boston Housing XGBoost model so if you don't want the hyperparameter tuning job to take too long, make sure to not set the total number of models (jobs) too high."
   ]
  },
  {
   "cell_type": "code",
   "execution_count": 21,
   "metadata": {},
   "outputs": [],
   "source": [
    "# First, make sure to import the relevant objects used to construct the tuner\n",
    "from sagemaker.tuner import IntegerParameter, ContinuousParameter, HyperparameterTuner\n",
    "\n",
    "# TODO: Create the hyperparameter tuner object\n",
    "\n",
    "xgb_hyperparameter_tuner = HyperparameterTuner(estimator = xgb, # The estimator object to use as the basis for the training jobs.\n",
    "                                               objective_metric_name = 'validation:rmse', # The metric used to compare trained models.\n",
    "                                               objective_type = 'Minimize', # Whether we wish to minimize or maximize the metric.\n",
    "                                               max_jobs = 6, # The total number of models to train\n",
    "                                               max_parallel_jobs = 3, # The number of models to train in parallel\n",
    "                                               hyperparameter_ranges = {\n",
    "                                                    'max_depth': IntegerParameter(3, 12),\n",
    "                                                    'eta'      : ContinuousParameter(0.05, 0.5),\n",
    "                                                    'min_child_weight': IntegerParameter(2, 8),\n",
    "                                                    'subsample': ContinuousParameter(0.5, 0.9),\n",
    "                                                    'gamma': ContinuousParameter(0, 10),\n",
    "                                               })\n",
    "\n"
   ]
  },
  {
   "cell_type": "markdown",
   "metadata": {},
   "source": [
    "### Fit the hyperparameter tuner\n",
    "\n",
    "Now that the hyperparameter tuner object has been constructed, it is time to fit the various models and find the best performing model."
   ]
  },
  {
   "cell_type": "code",
   "execution_count": 22,
   "metadata": {},
   "outputs": [],
   "source": [
    "s3_input_train = sagemaker.s3_input(s3_data=train_location, content_type='csv')\n",
    "s3_input_validation = sagemaker.s3_input(s3_data=val_location, content_type='csv')"
   ]
  },
  {
   "cell_type": "code",
   "execution_count": 23,
   "metadata": {},
   "outputs": [
    {
     "name": "stderr",
     "output_type": "stream",
     "text": [
      "INFO:sagemaker:Creating hyperparameter tuning job with name: xgboost-190418-1925\n"
     ]
    }
   ],
   "source": [
    "xgb_hyperparameter_tuner.fit({'train': s3_input_train, 'validation': s3_input_validation})"
   ]
  },
  {
   "cell_type": "markdown",
   "metadata": {},
   "source": [
    "Remember that the tuning job is constructed and run in the background so if we want to see the progress of our training job we need to call the `wait()` method."
   ]
  },
  {
   "cell_type": "code",
   "execution_count": 24,
   "metadata": {},
   "outputs": [
    {
     "name": "stdout",
     "output_type": "stream",
     "text": [
      "..........................................................................................................................................................................................................................................!\n"
     ]
    }
   ],
   "source": [
    "xgb_hyperparameter_tuner.wait()"
   ]
  },
  {
   "cell_type": "markdown",
   "metadata": {},
   "source": [
    "### (TODO) Testing the model\n",
    "\n",
    "Now that we've run our hyperparameter tuning job, it's time to see how well the best performing model actually performs. To do this we will use SageMaker's Batch Transform functionality. Batch Transform is a convenient way to perform inference on a large dataset in a way that is not realtime. That is, we don't necessarily need to use our model's results immediately and instead we can peform inference on a large number of samples. An example of this in industry might be peforming an end of month report. This method of inference can also be useful to us as it means to can perform inference on our entire test set. \n",
    "\n",
    "Remember that in order to create a transformer object to perform the batch transform job, we need a trained estimator object. We can do that using the `attach()` method, creating an estimator object which is attached to the best trained job."
   ]
  },
  {
   "cell_type": "code",
   "execution_count": 25,
   "metadata": {},
   "outputs": [
    {
     "data": {
      "text/plain": [
       "'xgboost-190418-1925-002-b7d44e55'"
      ]
     },
     "execution_count": 25,
     "metadata": {},
     "output_type": "execute_result"
    }
   ],
   "source": [
    "xgb_hyperparameter_tuner.best_training_job()"
   ]
  },
  {
   "cell_type": "code",
   "execution_count": 26,
   "metadata": {},
   "outputs": [
    {
     "name": "stdout",
     "output_type": "stream",
     "text": [
      "2019-04-18 19:33:46 Starting - Preparing the instances for training\n",
      "2019-04-18 19:33:46 Downloading - Downloading input data\n",
      "2019-04-18 19:33:46 Training - Training image download completed. Training in progress.\n",
      "2019-04-18 19:33:46 Uploading - Uploading generated training model\n",
      "2019-04-18 19:33:46 Completed - Training job completed\u001b[31mArguments: train\u001b[0m\n",
      "\u001b[31m[2019-04-18:19:28:36:INFO] Running standalone xgboost training.\u001b[0m\n",
      "\u001b[31m[2019-04-18:19:28:36:INFO] Setting up HPO optimized metric to be : rmse\u001b[0m\n",
      "\u001b[31m[2019-04-18:19:28:36:INFO] File size need to be processed in the node: 238.47mb. Available memory size in the node: 8375.87mb\u001b[0m\n",
      "\u001b[31m[2019-04-18:19:28:36:INFO] Determined delimiter of CSV input is ','\u001b[0m\n",
      "\u001b[31m[19:28:36] S3DistributionType set as FullyReplicated\u001b[0m\n",
      "\u001b[31m[19:28:38] 15000x5000 matrix with 75000000 entries loaded from /opt/ml/input/data/train?format=csv&label_column=0&delimiter=,\u001b[0m\n",
      "\u001b[31m[2019-04-18:19:28:38:INFO] Determined delimiter of CSV input is ','\u001b[0m\n",
      "\u001b[31m[19:28:38] S3DistributionType set as FullyReplicated\u001b[0m\n",
      "\u001b[31m[19:28:39] 10000x5000 matrix with 50000000 entries loaded from /opt/ml/input/data/validation?format=csv&label_column=0&delimiter=,\u001b[0m\n",
      "\u001b[31m[19:28:43] src/tree/updater_prune.cc:74: tree pruning end, 1 roots, 80 extra nodes, 0 pruned nodes, max_depth=6\u001b[0m\n",
      "\u001b[31m[0]#011train-rmse:0.467841#011validation-rmse:0.470249\u001b[0m\n",
      "\u001b[31mMultiple eval metrics have been passed: 'validation-rmse' will be used for early stopping.\n",
      "\u001b[0m\n",
      "\u001b[31mWill train until validation-rmse hasn't improved in 10 rounds.\u001b[0m\n",
      "\u001b[31m[19:28:44] src/tree/updater_prune.cc:74: tree pruning end, 1 roots, 70 extra nodes, 2 pruned nodes, max_depth=6\u001b[0m\n",
      "\u001b[31m[1]#011train-rmse:0.449049#011validation-rmse:0.45352\u001b[0m\n",
      "\u001b[31m[19:28:46] src/tree/updater_prune.cc:74: tree pruning end, 1 roots, 50 extra nodes, 0 pruned nodes, max_depth=6\u001b[0m\n",
      "\u001b[31m[2]#011train-rmse:0.435258#011validation-rmse:0.441495\u001b[0m\n",
      "\u001b[31m[19:28:47] src/tree/updater_prune.cc:74: tree pruning end, 1 roots, 68 extra nodes, 2 pruned nodes, max_depth=6\u001b[0m\n",
      "\u001b[31m[3]#011train-rmse:0.424113#011validation-rmse:0.432352\u001b[0m\n",
      "\u001b[31m[19:28:49] src/tree/updater_prune.cc:74: tree pruning end, 1 roots, 84 extra nodes, 0 pruned nodes, max_depth=6\u001b[0m\n",
      "\u001b[31m[4]#011train-rmse:0.413578#011validation-rmse:0.424071\u001b[0m\n",
      "\u001b[31m[19:28:50] src/tree/updater_prune.cc:74: tree pruning end, 1 roots, 58 extra nodes, 0 pruned nodes, max_depth=6\u001b[0m\n",
      "\u001b[31m[5]#011train-rmse:0.405417#011validation-rmse:0.417492\u001b[0m\n",
      "\u001b[31m[19:28:52] src/tree/updater_prune.cc:74: tree pruning end, 1 roots, 76 extra nodes, 0 pruned nodes, max_depth=6\u001b[0m\n",
      "\u001b[31m[6]#011train-rmse:0.397559#011validation-rmse:0.412161\u001b[0m\n",
      "\u001b[31m[19:28:53] src/tree/updater_prune.cc:74: tree pruning end, 1 roots, 64 extra nodes, 0 pruned nodes, max_depth=6\u001b[0m\n",
      "\u001b[31m[7]#011train-rmse:0.391139#011validation-rmse:0.407597\u001b[0m\n",
      "\u001b[31m[19:28:55] src/tree/updater_prune.cc:74: tree pruning end, 1 roots, 60 extra nodes, 4 pruned nodes, max_depth=6\u001b[0m\n",
      "\u001b[31m[8]#011train-rmse:0.385285#011validation-rmse:0.402629\u001b[0m\n",
      "\u001b[31m[19:28:56] src/tree/updater_prune.cc:74: tree pruning end, 1 roots, 44 extra nodes, 0 pruned nodes, max_depth=6\u001b[0m\n",
      "\u001b[31m[9]#011train-rmse:0.38045#011validation-rmse:0.398425\u001b[0m\n",
      "\u001b[31m[19:28:57] src/tree/updater_prune.cc:74: tree pruning end, 1 roots, 38 extra nodes, 2 pruned nodes, max_depth=6\u001b[0m\n",
      "\u001b[31m[10]#011train-rmse:0.376691#011validation-rmse:0.39575\u001b[0m\n",
      "\u001b[31m[19:28:59] src/tree/updater_prune.cc:74: tree pruning end, 1 roots, 62 extra nodes, 2 pruned nodes, max_depth=6\u001b[0m\n",
      "\u001b[31m[11]#011train-rmse:0.371677#011validation-rmse:0.392094\u001b[0m\n",
      "\u001b[31m[19:29:00] src/tree/updater_prune.cc:74: tree pruning end, 1 roots, 58 extra nodes, 0 pruned nodes, max_depth=6\u001b[0m\n",
      "\u001b[31m[12]#011train-rmse:0.367451#011validation-rmse:0.388934\u001b[0m\n",
      "\u001b[31m[19:29:02] src/tree/updater_prune.cc:74: tree pruning end, 1 roots, 56 extra nodes, 0 pruned nodes, max_depth=6\u001b[0m\n",
      "\u001b[31m[13]#011train-rmse:0.363242#011validation-rmse:0.386534\u001b[0m\n",
      "\u001b[31m[19:29:03] src/tree/updater_prune.cc:74: tree pruning end, 1 roots, 72 extra nodes, 0 pruned nodes, max_depth=6\u001b[0m\n",
      "\u001b[31m[14]#011train-rmse:0.358699#011validation-rmse:0.383261\u001b[0m\n",
      "\u001b[31m[19:29:05] src/tree/updater_prune.cc:74: tree pruning end, 1 roots, 62 extra nodes, 6 pruned nodes, max_depth=6\u001b[0m\n",
      "\u001b[31m[15]#011train-rmse:0.354952#011validation-rmse:0.380821\u001b[0m\n",
      "\u001b[31m[19:29:06] src/tree/updater_prune.cc:74: tree pruning end, 1 roots, 46 extra nodes, 2 pruned nodes, max_depth=6\u001b[0m\n",
      "\u001b[31m[16]#011train-rmse:0.351524#011validation-rmse:0.378318\u001b[0m\n",
      "\u001b[31m[19:29:08] src/tree/updater_prune.cc:74: tree pruning end, 1 roots, 58 extra nodes, 0 pruned nodes, max_depth=6\u001b[0m\n",
      "\u001b[31m[17]#011train-rmse:0.3482#011validation-rmse:0.375745\u001b[0m\n",
      "\u001b[31m[19:29:09] src/tree/updater_prune.cc:74: tree pruning end, 1 roots, 56 extra nodes, 2 pruned nodes, max_depth=6\u001b[0m\n",
      "\u001b[31m[18]#011train-rmse:0.345041#011validation-rmse:0.373662\u001b[0m\n",
      "\u001b[31m[19:29:10] src/tree/updater_prune.cc:74: tree pruning end, 1 roots, 44 extra nodes, 2 pruned nodes, max_depth=6\u001b[0m\n",
      "\u001b[31m[19]#011train-rmse:0.342145#011validation-rmse:0.372199\u001b[0m\n",
      "\u001b[31m[19:29:12] src/tree/updater_prune.cc:74: tree pruning end, 1 roots, 66 extra nodes, 2 pruned nodes, max_depth=6\u001b[0m\n",
      "\u001b[31m[20]#011train-rmse:0.338778#011validation-rmse:0.370496\u001b[0m\n",
      "\u001b[31m[19:29:13] src/tree/updater_prune.cc:74: tree pruning end, 1 roots, 62 extra nodes, 0 pruned nodes, max_depth=6\u001b[0m\n",
      "\u001b[31m[21]#011train-rmse:0.335479#011validation-rmse:0.368402\u001b[0m\n",
      "\u001b[31m[19:29:15] src/tree/updater_prune.cc:74: tree pruning end, 1 roots, 48 extra nodes, 0 pruned nodes, max_depth=6\u001b[0m\n",
      "\u001b[31m[22]#011train-rmse:0.3331#011validation-rmse:0.366542\u001b[0m\n",
      "\u001b[31m[19:29:16] src/tree/updater_prune.cc:74: tree pruning end, 1 roots, 48 extra nodes, 4 pruned nodes, max_depth=6\u001b[0m\n",
      "\u001b[31m[23]#011train-rmse:0.330824#011validation-rmse:0.365108\u001b[0m\n",
      "\u001b[31m[19:29:18] src/tree/updater_prune.cc:74: tree pruning end, 1 roots, 50 extra nodes, 0 pruned nodes, max_depth=6\u001b[0m\n",
      "\u001b[31m[24]#011train-rmse:0.328564#011validation-rmse:0.363984\u001b[0m\n",
      "\u001b[31m[19:29:19] src/tree/updater_prune.cc:74: tree pruning end, 1 roots, 56 extra nodes, 2 pruned nodes, max_depth=6\u001b[0m\n",
      "\u001b[31m[25]#011train-rmse:0.326122#011validation-rmse:0.362096\u001b[0m\n",
      "\u001b[31m[19:29:20] src/tree/updater_prune.cc:74: tree pruning end, 1 roots, 52 extra nodes, 6 pruned nodes, max_depth=6\u001b[0m\n",
      "\u001b[31m[26]#011train-rmse:0.323967#011validation-rmse:0.361252\u001b[0m\n",
      "\u001b[31m[19:29:22] src/tree/updater_prune.cc:74: tree pruning end, 1 roots, 48 extra nodes, 4 pruned nodes, max_depth=6\u001b[0m\n",
      "\u001b[31m[27]#011train-rmse:0.321753#011validation-rmse:0.360103\u001b[0m\n",
      "\u001b[31m[19:29:23] src/tree/updater_prune.cc:74: tree pruning end, 1 roots, 48 extra nodes, 2 pruned nodes, max_depth=6\u001b[0m\n",
      "\u001b[31m[28]#011train-rmse:0.319877#011validation-rmse:0.359123\u001b[0m\n",
      "\u001b[31m[19:29:25] src/tree/updater_prune.cc:74: tree pruning end, 1 roots, 60 extra nodes, 4 pruned nodes, max_depth=6\u001b[0m\n",
      "\u001b[31m[29]#011train-rmse:0.317089#011validation-rmse:0.357504\u001b[0m\n",
      "\u001b[31m[19:29:26] src/tree/updater_prune.cc:74: tree pruning end, 1 roots, 32 extra nodes, 8 pruned nodes, max_depth=6\u001b[0m\n",
      "\u001b[31m[30]#011train-rmse:0.315581#011validation-rmse:0.356122\u001b[0m\n",
      "\u001b[31m[19:29:28] src/tree/updater_prune.cc:74: tree pruning end, 1 roots, 40 extra nodes, 6 pruned nodes, max_depth=6\u001b[0m\n",
      "\u001b[31m[31]#011train-rmse:0.313799#011validation-rmse:0.355445\u001b[0m\n",
      "\u001b[31m[19:29:29] src/tree/updater_prune.cc:74: tree pruning end, 1 roots, 48 extra nodes, 2 pruned nodes, max_depth=6\u001b[0m\n",
      "\u001b[31m[32]#011train-rmse:0.311907#011validation-rmse:0.354472\u001b[0m\n",
      "\u001b[31m[19:29:30] src/tree/updater_prune.cc:74: tree pruning end, 1 roots, 36 extra nodes, 4 pruned nodes, max_depth=6\u001b[0m\n",
      "\u001b[31m[33]#011train-rmse:0.310369#011validation-rmse:0.353724\u001b[0m\n",
      "\u001b[31m[19:29:32] src/tree/updater_prune.cc:74: tree pruning end, 1 roots, 54 extra nodes, 2 pruned nodes, max_depth=6\u001b[0m\n",
      "\u001b[31m[34]#011train-rmse:0.308332#011validation-rmse:0.352822\u001b[0m\n",
      "\u001b[31m[19:29:33] src/tree/updater_prune.cc:74: tree pruning end, 1 roots, 60 extra nodes, 2 pruned nodes, max_depth=6\u001b[0m\n",
      "\u001b[31m[35]#011train-rmse:0.306276#011validation-rmse:0.351523\u001b[0m\n",
      "\u001b[31m[19:29:35] src/tree/updater_prune.cc:74: tree pruning end, 1 roots, 64 extra nodes, 2 pruned nodes, max_depth=6\u001b[0m\n",
      "\u001b[31m[36]#011train-rmse:0.30394#011validation-rmse:0.350862\u001b[0m\n",
      "\u001b[31m[19:29:36] src/tree/updater_prune.cc:74: tree pruning end, 1 roots, 28 extra nodes, 6 pruned nodes, max_depth=6\u001b[0m\n",
      "\u001b[31m[37]#011train-rmse:0.302676#011validation-rmse:0.350242\u001b[0m\n",
      "\u001b[31m[19:29:38] src/tree/updater_prune.cc:74: tree pruning end, 1 roots, 40 extra nodes, 10 pruned nodes, max_depth=6\u001b[0m\n",
      "\u001b[31m[38]#011train-rmse:0.301181#011validation-rmse:0.349165\u001b[0m\n",
      "\u001b[31m[19:29:39] src/tree/updater_prune.cc:74: tree pruning end, 1 roots, 48 extra nodes, 4 pruned nodes, max_depth=6\u001b[0m\n",
      "\u001b[31m[39]#011train-rmse:0.299529#011validation-rmse:0.348499\u001b[0m\n",
      "\u001b[31m[19:29:40] src/tree/updater_prune.cc:74: tree pruning end, 1 roots, 36 extra nodes, 10 pruned nodes, max_depth=6\u001b[0m\n",
      "\u001b[31m[40]#011train-rmse:0.298369#011validation-rmse:0.347828\u001b[0m\n",
      "\u001b[31m[19:29:42] src/tree/updater_prune.cc:74: tree pruning end, 1 roots, 46 extra nodes, 4 pruned nodes, max_depth=6\u001b[0m\n",
      "\u001b[31m[41]#011train-rmse:0.296929#011validation-rmse:0.347085\u001b[0m\n",
      "\u001b[31m[19:29:43] src/tree/updater_prune.cc:74: tree pruning end, 1 roots, 34 extra nodes, 2 pruned nodes, max_depth=6\u001b[0m\n",
      "\u001b[31m[42]#011train-rmse:0.295728#011validation-rmse:0.346251\u001b[0m\n",
      "\u001b[31m[19:29:45] src/tree/updater_prune.cc:74: tree pruning end, 1 roots, 26 extra nodes, 2 pruned nodes, max_depth=6\u001b[0m\n",
      "\u001b[31m[43]#011train-rmse:0.294582#011validation-rmse:0.345479\u001b[0m\n",
      "\u001b[31m[19:29:46] src/tree/updater_prune.cc:74: tree pruning end, 1 roots, 64 extra nodes, 2 pruned nodes, max_depth=6\u001b[0m\n",
      "\u001b[31m[44]#011train-rmse:0.292477#011validation-rmse:0.345049\u001b[0m\n",
      "\u001b[31m[19:29:48] src/tree/updater_prune.cc:74: tree pruning end, 1 roots, 34 extra nodes, 4 pruned nodes, max_depth=6\u001b[0m\n",
      "\u001b[31m[45]#011train-rmse:0.291376#011validation-rmse:0.344352\u001b[0m\n",
      "\u001b[31m[19:29:49] src/tree/updater_prune.cc:74: tree pruning end, 1 roots, 50 extra nodes, 2 pruned nodes, max_depth=6\u001b[0m\n",
      "\u001b[31m[46]#011train-rmse:0.289884#011validation-rmse:0.343631\u001b[0m\n",
      "\u001b[31m[19:29:50] src/tree/updater_prune.cc:74: tree pruning end, 1 roots, 54 extra nodes, 2 pruned nodes, max_depth=6\u001b[0m\n",
      "\u001b[31m[47]#011train-rmse:0.288116#011validation-rmse:0.342667\u001b[0m\n",
      "\u001b[31m[19:29:52] src/tree/updater_prune.cc:74: tree pruning end, 1 roots, 58 extra nodes, 4 pruned nodes, max_depth=6\u001b[0m\n",
      "\u001b[31m[48]#011train-rmse:0.286257#011validation-rmse:0.342201\u001b[0m\n",
      "\u001b[31m[19:29:53] src/tree/updater_prune.cc:74: tree pruning end, 1 roots, 48 extra nodes, 0 pruned nodes, max_depth=6\u001b[0m\n",
      "\u001b[31m[49]#011train-rmse:0.284754#011validation-rmse:0.341663\u001b[0m\n",
      "\u001b[31m[19:29:55] src/tree/updater_prune.cc:74: tree pruning end, 1 roots, 38 extra nodes, 4 pruned nodes, max_depth=6\u001b[0m\n",
      "\u001b[31m[50]#011train-rmse:0.28343#011validation-rmse:0.340852\u001b[0m\n",
      "\u001b[31m[19:29:56] src/tree/updater_prune.cc:74: tree pruning end, 1 roots, 42 extra nodes, 2 pruned nodes, max_depth=6\u001b[0m\n",
      "\u001b[31m[51]#011train-rmse:0.282266#011validation-rmse:0.340572\u001b[0m\n",
      "\u001b[31m[19:29:58] src/tree/updater_prune.cc:74: tree pruning end, 1 roots, 30 extra nodes, 2 pruned nodes, max_depth=6\u001b[0m\n",
      "\u001b[31m[52]#011train-rmse:0.281284#011validation-rmse:0.339971\u001b[0m\n",
      "\u001b[31m[19:29:59] src/tree/updater_prune.cc:74: tree pruning end, 1 roots, 50 extra nodes, 0 pruned nodes, max_depth=6\u001b[0m\n",
      "\u001b[31m[53]#011train-rmse:0.279799#011validation-rmse:0.339805\u001b[0m\n",
      "\u001b[31m[19:30:00] src/tree/updater_prune.cc:74: tree pruning end, 1 roots, 50 extra nodes, 2 pruned nodes, max_depth=6\u001b[0m\n",
      "\u001b[31m[54]#011train-rmse:0.278368#011validation-rmse:0.339321\u001b[0m\n",
      "\u001b[31m[19:30:02] src/tree/updater_prune.cc:74: tree pruning end, 1 roots, 28 extra nodes, 6 pruned nodes, max_depth=6\u001b[0m\n",
      "\u001b[31m[55]#011train-rmse:0.277519#011validation-rmse:0.338821\u001b[0m\n",
      "\u001b[31m[19:30:03] src/tree/updater_prune.cc:74: tree pruning end, 1 roots, 30 extra nodes, 4 pruned nodes, max_depth=6\u001b[0m\n",
      "\u001b[31m[56]#011train-rmse:0.276636#011validation-rmse:0.338432\u001b[0m\n",
      "\u001b[31m[19:30:05] src/tree/updater_prune.cc:74: tree pruning end, 1 roots, 50 extra nodes, 8 pruned nodes, max_depth=6\u001b[0m\n",
      "\u001b[31m[57]#011train-rmse:0.275049#011validation-rmse:0.337811\u001b[0m\n",
      "\u001b[31m[19:30:06] src/tree/updater_prune.cc:74: tree pruning end, 1 roots, 32 extra nodes, 2 pruned nodes, max_depth=6\u001b[0m\n",
      "\u001b[31m[58]#011train-rmse:0.274079#011validation-rmse:0.337207\u001b[0m\n",
      "\u001b[31m[19:30:08] src/tree/updater_prune.cc:74: tree pruning end, 1 roots, 34 extra nodes, 6 pruned nodes, max_depth=6\u001b[0m\n",
      "\u001b[31m[59]#011train-rmse:0.273244#011validation-rmse:0.336762\u001b[0m\n",
      "\u001b[31m[19:30:09] src/tree/updater_prune.cc:74: tree pruning end, 1 roots, 28 extra nodes, 2 pruned nodes, max_depth=6\u001b[0m\n",
      "\u001b[31m[60]#011train-rmse:0.272379#011validation-rmse:0.336376\u001b[0m\n",
      "\u001b[31m[19:30:11] src/tree/updater_prune.cc:74: tree pruning end, 1 roots, 26 extra nodes, 6 pruned nodes, max_depth=6\u001b[0m\n",
      "\u001b[31m[61]#011train-rmse:0.271624#011validation-rmse:0.335851\u001b[0m\n",
      "\u001b[31m[19:30:12] src/tree/updater_prune.cc:74: tree pruning end, 1 roots, 50 extra nodes, 6 pruned nodes, max_depth=6\u001b[0m\n",
      "\u001b[31m[62]#011train-rmse:0.270418#011validation-rmse:0.335426\u001b[0m\n",
      "\u001b[31m[19:30:13] src/tree/updater_prune.cc:74: tree pruning end, 1 roots, 34 extra nodes, 6 pruned nodes, max_depth=6\u001b[0m\n",
      "\u001b[31m[63]#011train-rmse:0.269442#011validation-rmse:0.335084\u001b[0m\n",
      "\u001b[31m[19:30:15] src/tree/updater_prune.cc:74: tree pruning end, 1 roots, 28 extra nodes, 2 pruned nodes, max_depth=6\u001b[0m\n",
      "\u001b[31m[64]#011train-rmse:0.268387#011validation-rmse:0.334633\u001b[0m\n",
      "\u001b[31m[19:30:16] src/tree/updater_prune.cc:74: tree pruning end, 1 roots, 30 extra nodes, 10 pruned nodes, max_depth=6\u001b[0m\n",
      "\u001b[31m[65]#011train-rmse:0.267639#011validation-rmse:0.334374\u001b[0m\n",
      "\u001b[31m[19:30:18] src/tree/updater_prune.cc:74: tree pruning end, 1 roots, 46 extra nodes, 2 pruned nodes, max_depth=6\u001b[0m\n",
      "\u001b[31m[66]#011train-rmse:0.266533#011validation-rmse:0.33404\u001b[0m\n",
      "\u001b[31m[19:30:19] src/tree/updater_prune.cc:74: tree pruning end, 1 roots, 38 extra nodes, 2 pruned nodes, max_depth=6\u001b[0m\n",
      "\u001b[31m[67]#011train-rmse:0.265356#011validation-rmse:0.333705\u001b[0m\n",
      "\u001b[31m[19:30:21] src/tree/updater_prune.cc:74: tree pruning end, 1 roots, 46 extra nodes, 2 pruned nodes, max_depth=6\u001b[0m\n",
      "\u001b[31m[68]#011train-rmse:0.264204#011validation-rmse:0.333434\u001b[0m\n",
      "\u001b[31m[19:30:22] src/tree/updater_prune.cc:74: tree pruning end, 1 roots, 50 extra nodes, 6 pruned nodes, max_depth=6\u001b[0m\n",
      "\u001b[31m[69]#011train-rmse:0.262762#011validation-rmse:0.332838\u001b[0m\n",
      "\u001b[31m[19:30:24] src/tree/updater_prune.cc:74: tree pruning end, 1 roots, 34 extra nodes, 8 pruned nodes, max_depth=6\u001b[0m\n",
      "\u001b[31m[70]#011train-rmse:0.261867#011validation-rmse:0.332468\u001b[0m\n",
      "\u001b[31m[19:30:25] src/tree/updater_prune.cc:74: tree pruning end, 1 roots, 44 extra nodes, 6 pruned nodes, max_depth=6\u001b[0m\n",
      "\u001b[31m[71]#011train-rmse:0.260666#011validation-rmse:0.33219\u001b[0m\n",
      "\u001b[31m[19:30:26] src/tree/updater_prune.cc:74: tree pruning end, 1 roots, 20 extra nodes, 6 pruned nodes, max_depth=6\u001b[0m\n",
      "\u001b[31m[72]#011train-rmse:0.260081#011validation-rmse:0.331865\u001b[0m\n",
      "\u001b[31m[19:30:28] src/tree/updater_prune.cc:74: tree pruning end, 1 roots, 34 extra nodes, 2 pruned nodes, max_depth=6\u001b[0m\n",
      "\u001b[31m[73]#011train-rmse:0.259074#011validation-rmse:0.331581\u001b[0m\n",
      "\u001b[31m[19:30:29] src/tree/updater_prune.cc:74: tree pruning end, 1 roots, 38 extra nodes, 4 pruned nodes, max_depth=6\u001b[0m\n",
      "\u001b[31m[74]#011train-rmse:0.258091#011validation-rmse:0.331293\u001b[0m\n",
      "\u001b[31m[19:30:31] src/tree/updater_prune.cc:74: tree pruning end, 1 roots, 42 extra nodes, 2 pruned nodes, max_depth=6\u001b[0m\n",
      "\u001b[31m[75]#011train-rmse:0.257025#011validation-rmse:0.331075\u001b[0m\n",
      "\u001b[31m[19:30:32] src/tree/updater_prune.cc:74: tree pruning end, 1 roots, 44 extra nodes, 8 pruned nodes, max_depth=6\u001b[0m\n",
      "\u001b[31m[76]#011train-rmse:0.255919#011validation-rmse:0.330743\u001b[0m\n",
      "\u001b[31m[19:30:34] src/tree/updater_prune.cc:74: tree pruning end, 1 roots, 38 extra nodes, 2 pruned nodes, max_depth=6\u001b[0m\n",
      "\u001b[31m[77]#011train-rmse:0.255176#011validation-rmse:0.330532\u001b[0m\n",
      "\u001b[31m[19:30:35] src/tree/updater_prune.cc:74: tree pruning end, 1 roots, 30 extra nodes, 2 pruned nodes, max_depth=6\u001b[0m\n",
      "\u001b[31m[78]#011train-rmse:0.254391#011validation-rmse:0.330343\u001b[0m\n",
      "\u001b[31m[19:30:36] src/tree/updater_prune.cc:74: tree pruning end, 1 roots, 40 extra nodes, 2 pruned nodes, max_depth=6\u001b[0m\n",
      "\u001b[31m[79]#011train-rmse:0.253388#011validation-rmse:0.330078\u001b[0m\n",
      "\u001b[31m[19:30:38] src/tree/updater_prune.cc:74: tree pruning end, 1 roots, 46 extra nodes, 4 pruned nodes, max_depth=6\u001b[0m\n",
      "\u001b[31m[80]#011train-rmse:0.252255#011validation-rmse:0.329891\u001b[0m\n",
      "\u001b[31m[19:30:39] src/tree/updater_prune.cc:74: tree pruning end, 1 roots, 38 extra nodes, 2 pruned nodes, max_depth=6\u001b[0m\n",
      "\u001b[31m[81]#011train-rmse:0.251302#011validation-rmse:0.329774\u001b[0m\n",
      "\u001b[31m[19:30:41] src/tree/updater_prune.cc:74: tree pruning end, 1 roots, 52 extra nodes, 2 pruned nodes, max_depth=6\u001b[0m\n",
      "\u001b[31m[82]#011train-rmse:0.250058#011validation-rmse:0.32945\u001b[0m\n",
      "\u001b[31m[19:30:42] src/tree/updater_prune.cc:74: tree pruning end, 1 roots, 42 extra nodes, 4 pruned nodes, max_depth=6\u001b[0m\n",
      "\u001b[31m[83]#011train-rmse:0.248899#011validation-rmse:0.32918\u001b[0m\n",
      "\u001b[31m[19:30:44] src/tree/updater_prune.cc:74: tree pruning end, 1 roots, 20 extra nodes, 8 pruned nodes, max_depth=6\u001b[0m\n",
      "\u001b[31m[84]#011train-rmse:0.248303#011validation-rmse:0.328956\u001b[0m\n",
      "\u001b[31m[19:30:45] src/tree/updater_prune.cc:74: tree pruning end, 1 roots, 32 extra nodes, 4 pruned nodes, max_depth=6\u001b[0m\n",
      "\u001b[31m[85]#011train-rmse:0.247556#011validation-rmse:0.328814\u001b[0m\n",
      "\u001b[31m[19:30:46] src/tree/updater_prune.cc:74: tree pruning end, 1 roots, 24 extra nodes, 4 pruned nodes, max_depth=6\u001b[0m\n",
      "\u001b[31m[86]#011train-rmse:0.247084#011validation-rmse:0.328562\u001b[0m\n",
      "\u001b[31m[19:30:48] src/tree/updater_prune.cc:74: tree pruning end, 1 roots, 30 extra nodes, 4 pruned nodes, max_depth=6\u001b[0m\n",
      "\u001b[31m[87]#011train-rmse:0.246507#011validation-rmse:0.328297\u001b[0m\n",
      "\u001b[31m[19:30:49] src/tree/updater_prune.cc:74: tree pruning end, 1 roots, 32 extra nodes, 2 pruned nodes, max_depth=6\u001b[0m\n",
      "\u001b[31m[88]#011train-rmse:0.24569#011validation-rmse:0.327818\u001b[0m\n",
      "\u001b[31m[19:30:51] src/tree/updater_prune.cc:74: tree pruning end, 1 roots, 16 extra nodes, 2 pruned nodes, max_depth=6\u001b[0m\n",
      "\u001b[31m[89]#011train-rmse:0.2452#011validation-rmse:0.327526\u001b[0m\n",
      "\u001b[31m[19:30:52] src/tree/updater_prune.cc:74: tree pruning end, 1 roots, 20 extra nodes, 2 pruned nodes, max_depth=6\u001b[0m\n",
      "\u001b[31m[90]#011train-rmse:0.244711#011validation-rmse:0.32734\u001b[0m\n",
      "\u001b[31m[19:30:54] src/tree/updater_prune.cc:74: tree pruning end, 1 roots, 28 extra nodes, 4 pruned nodes, max_depth=6\u001b[0m\n",
      "\u001b[31m[91]#011train-rmse:0.243974#011validation-rmse:0.327093\u001b[0m\n",
      "\u001b[31m[19:30:55] src/tree/updater_prune.cc:74: tree pruning end, 1 roots, 46 extra nodes, 4 pruned nodes, max_depth=6\u001b[0m\n",
      "\u001b[31m[92]#011train-rmse:0.242827#011validation-rmse:0.326892\u001b[0m\n",
      "\u001b[31m[19:30:56] src/tree/updater_prune.cc:74: tree pruning end, 1 roots, 22 extra nodes, 6 pruned nodes, max_depth=6\u001b[0m\n",
      "\u001b[31m[93]#011train-rmse:0.242312#011validation-rmse:0.326794\u001b[0m\n",
      "\u001b[31m[19:30:58] src/tree/updater_prune.cc:74: tree pruning end, 1 roots, 48 extra nodes, 0 pruned nodes, max_depth=6\u001b[0m\n",
      "\u001b[31m[94]#011train-rmse:0.241227#011validation-rmse:0.326431\u001b[0m\n",
      "\u001b[31m[19:30:59] src/tree/updater_prune.cc:74: tree pruning end, 1 roots, 20 extra nodes, 0 pruned nodes, max_depth=6\u001b[0m\n",
      "\u001b[31m[95]#011train-rmse:0.240812#011validation-rmse:0.326304\u001b[0m\n",
      "\u001b[31m[19:31:01] src/tree/updater_prune.cc:74: tree pruning end, 1 roots, 18 extra nodes, 2 pruned nodes, max_depth=6\u001b[0m\n",
      "\u001b[31m[96]#011train-rmse:0.240258#011validation-rmse:0.325959\u001b[0m\n",
      "\u001b[31m[19:31:02] src/tree/updater_prune.cc:74: tree pruning end, 1 roots, 36 extra nodes, 4 pruned nodes, max_depth=6\u001b[0m\n",
      "\u001b[31m[97]#011train-rmse:0.239354#011validation-rmse:0.325677\u001b[0m\n",
      "\u001b[31m[19:31:04] src/tree/updater_prune.cc:74: tree pruning end, 1 roots, 44 extra nodes, 4 pruned nodes, max_depth=6\u001b[0m\n",
      "\u001b[31m[98]#011train-rmse:0.238489#011validation-rmse:0.325315\u001b[0m\n",
      "\u001b[31m[19:31:05] src/tree/updater_prune.cc:74: tree pruning end, 1 roots, 42 extra nodes, 0 pruned nodes, max_depth=6\u001b[0m\n",
      "\u001b[31m[99]#011train-rmse:0.237608#011validation-rmse:0.325346\u001b[0m\n",
      "\u001b[31m[19:31:06] src/tree/updater_prune.cc:74: tree pruning end, 1 roots, 40 extra nodes, 4 pruned nodes, max_depth=6\u001b[0m\n",
      "\u001b[31m[100]#011train-rmse:0.236507#011validation-rmse:0.325036\u001b[0m\n",
      "\u001b[31m[19:31:08] src/tree/updater_prune.cc:74: tree pruning end, 1 roots, 30 extra nodes, 2 pruned nodes, max_depth=6\u001b[0m\n",
      "\u001b[31m[101]#011train-rmse:0.235943#011validation-rmse:0.324821\u001b[0m\n",
      "\u001b[31m[19:31:09] src/tree/updater_prune.cc:74: tree pruning end, 1 roots, 20 extra nodes, 10 pruned nodes, max_depth=6\u001b[0m\n",
      "\u001b[31m[102]#011train-rmse:0.235518#011validation-rmse:0.324825\u001b[0m\n",
      "\u001b[31m[19:31:11] src/tree/updater_prune.cc:74: tree pruning end, 1 roots, 24 extra nodes, 6 pruned nodes, max_depth=6\u001b[0m\n",
      "\u001b[31m[103]#011train-rmse:0.235099#011validation-rmse:0.324737\u001b[0m\n",
      "\u001b[31m[19:31:12] src/tree/updater_prune.cc:74: tree pruning end, 1 roots, 34 extra nodes, 4 pruned nodes, max_depth=6\u001b[0m\n",
      "\u001b[31m[104]#011train-rmse:0.234551#011validation-rmse:0.324526\u001b[0m\n",
      "\u001b[31m[19:31:14] src/tree/updater_prune.cc:74: tree pruning end, 1 roots, 30 extra nodes, 0 pruned nodes, max_depth=6\u001b[0m\n",
      "\u001b[31m[105]#011train-rmse:0.233683#011validation-rmse:0.324408\u001b[0m\n",
      "\u001b[31m[19:31:15] src/tree/updater_prune.cc:74: tree pruning end, 1 roots, 42 extra nodes, 8 pruned nodes, max_depth=6\u001b[0m\n",
      "\u001b[31m[106]#011train-rmse:0.232705#011validation-rmse:0.324065\u001b[0m\n",
      "\u001b[31m[19:31:16] src/tree/updater_prune.cc:74: tree pruning end, 1 roots, 22 extra nodes, 6 pruned nodes, max_depth=6\u001b[0m\n",
      "\u001b[31m[107]#011train-rmse:0.232198#011validation-rmse:0.324012\u001b[0m\n",
      "\u001b[31m[19:31:18] src/tree/updater_prune.cc:74: tree pruning end, 1 roots, 22 extra nodes, 2 pruned nodes, max_depth=6\u001b[0m\n",
      "\u001b[31m[108]#011train-rmse:0.231593#011validation-rmse:0.323959\u001b[0m\n",
      "\u001b[31m[19:31:19] src/tree/updater_prune.cc:74: tree pruning end, 1 roots, 42 extra nodes, 8 pruned nodes, max_depth=6\u001b[0m\n",
      "\u001b[31m[109]#011train-rmse:0.230516#011validation-rmse:0.323613\u001b[0m\n",
      "\u001b[31m[19:31:21] src/tree/updater_prune.cc:74: tree pruning end, 1 roots, 44 extra nodes, 10 pruned nodes, max_depth=6\u001b[0m\n",
      "\u001b[31m[110]#011train-rmse:0.229625#011validation-rmse:0.323412\u001b[0m\n",
      "\u001b[31m[19:31:22] src/tree/updater_prune.cc:74: tree pruning end, 1 roots, 48 extra nodes, 2 pruned nodes, max_depth=6\u001b[0m\n",
      "\u001b[31m[111]#011train-rmse:0.228664#011validation-rmse:0.323243\u001b[0m\n",
      "\u001b[31m[19:31:24] src/tree/updater_prune.cc:74: tree pruning end, 1 roots, 22 extra nodes, 2 pruned nodes, max_depth=6\u001b[0m\n",
      "\u001b[31m[112]#011train-rmse:0.228231#011validation-rmse:0.323079\u001b[0m\n",
      "\u001b[31m[19:31:25] src/tree/updater_prune.cc:74: tree pruning end, 1 roots, 30 extra nodes, 6 pruned nodes, max_depth=6\u001b[0m\n",
      "\u001b[31m[113]#011train-rmse:0.227736#011validation-rmse:0.322861\u001b[0m\n",
      "\u001b[31m[19:31:27] src/tree/updater_prune.cc:74: tree pruning end, 1 roots, 30 extra nodes, 2 pruned nodes, max_depth=6\u001b[0m\n",
      "\u001b[31m[114]#011train-rmse:0.227179#011validation-rmse:0.322694\u001b[0m\n",
      "\u001b[31m[19:31:28] src/tree/updater_prune.cc:74: tree pruning end, 1 roots, 38 extra nodes, 4 pruned nodes, max_depth=6\u001b[0m\n",
      "\u001b[31m[115]#011train-rmse:0.226598#011validation-rmse:0.322533\u001b[0m\n",
      "\u001b[31m[19:31:29] src/tree/updater_prune.cc:74: tree pruning end, 1 roots, 46 extra nodes, 4 pruned nodes, max_depth=6\u001b[0m\n",
      "\u001b[31m[116]#011train-rmse:0.225602#011validation-rmse:0.322207\u001b[0m\n",
      "\u001b[31m[19:31:31] src/tree/updater_prune.cc:74: tree pruning end, 1 roots, 30 extra nodes, 6 pruned nodes, max_depth=6\u001b[0m\n",
      "\u001b[31m[117]#011train-rmse:0.224976#011validation-rmse:0.322019\u001b[0m\n",
      "\u001b[31m[19:31:32] src/tree/updater_prune.cc:74: tree pruning end, 1 roots, 22 extra nodes, 2 pruned nodes, max_depth=6\u001b[0m\n",
      "\u001b[31m[118]#011train-rmse:0.224506#011validation-rmse:0.321813\u001b[0m\n",
      "\u001b[31m[19:31:34] src/tree/updater_prune.cc:74: tree pruning end, 1 roots, 44 extra nodes, 4 pruned nodes, max_depth=6\u001b[0m\n",
      "\u001b[31m[119]#011train-rmse:0.223619#011validation-rmse:0.321496\u001b[0m\n",
      "\u001b[31m[19:31:35] src/tree/updater_prune.cc:74: tree pruning end, 1 roots, 14 extra nodes, 2 pruned nodes, max_depth=6\u001b[0m\n",
      "\u001b[31m[120]#011train-rmse:0.223278#011validation-rmse:0.321381\u001b[0m\n",
      "\u001b[31m[19:31:37] src/tree/updater_prune.cc:74: tree pruning end, 1 roots, 30 extra nodes, 6 pruned nodes, max_depth=6\u001b[0m\n",
      "\u001b[31m[121]#011train-rmse:0.222675#011validation-rmse:0.321286\u001b[0m\n",
      "\u001b[31m[19:31:38] src/tree/updater_prune.cc:74: tree pruning end, 1 roots, 28 extra nodes, 0 pruned nodes, max_depth=6\u001b[0m\n",
      "\u001b[31m[122]#011train-rmse:0.222139#011validation-rmse:0.320788\u001b[0m\n",
      "\u001b[31m[19:31:39] src/tree/updater_prune.cc:74: tree pruning end, 1 roots, 24 extra nodes, 4 pruned nodes, max_depth=6\u001b[0m\n",
      "\u001b[31m[123]#011train-rmse:0.221651#011validation-rmse:0.320705\u001b[0m\n",
      "\u001b[31m[19:31:41] src/tree/updater_prune.cc:74: tree pruning end, 1 roots, 22 extra nodes, 8 pruned nodes, max_depth=6\u001b[0m\n",
      "\u001b[31m[124]#011train-rmse:0.221254#011validation-rmse:0.320537\u001b[0m\n",
      "\u001b[31m[19:31:42] src/tree/updater_prune.cc:74: tree pruning end, 1 roots, 38 extra nodes, 2 pruned nodes, max_depth=6\u001b[0m\n",
      "\u001b[31m[125]#011train-rmse:0.220603#011validation-rmse:0.3205\u001b[0m\n",
      "\u001b[31m[19:31:44] src/tree/updater_prune.cc:74: tree pruning end, 1 roots, 34 extra nodes, 10 pruned nodes, max_depth=6\u001b[0m\n",
      "\u001b[31m[126]#011train-rmse:0.220015#011validation-rmse:0.320479\u001b[0m\n",
      "\u001b[31m[19:31:45] src/tree/updater_prune.cc:74: tree pruning end, 1 roots, 58 extra nodes, 0 pruned nodes, max_depth=6\u001b[0m\n",
      "\u001b[31m[127]#011train-rmse:0.218742#011validation-rmse:0.320641\u001b[0m\n",
      "\u001b[31m[19:31:47] src/tree/updater_prune.cc:74: tree pruning end, 1 roots, 40 extra nodes, 2 pruned nodes, max_depth=6\u001b[0m\n",
      "\u001b[31m[128]#011train-rmse:0.218006#011validation-rmse:0.320472\u001b[0m\n",
      "\u001b[31m[19:31:48] src/tree/updater_prune.cc:74: tree pruning end, 1 roots, 38 extra nodes, 6 pruned nodes, max_depth=6\u001b[0m\n",
      "\u001b[31m[129]#011train-rmse:0.21729#011validation-rmse:0.320463\u001b[0m\n",
      "\u001b[31m[19:31:49] src/tree/updater_prune.cc:74: tree pruning end, 1 roots, 42 extra nodes, 2 pruned nodes, max_depth=6\u001b[0m\n",
      "\u001b[31m[130]#011train-rmse:0.216384#011validation-rmse:0.320317\u001b[0m\n",
      "\u001b[31m[19:31:51] src/tree/updater_prune.cc:74: tree pruning end, 1 roots, 18 extra nodes, 4 pruned nodes, max_depth=6\u001b[0m\n",
      "\u001b[31m[131]#011train-rmse:0.215998#011validation-rmse:0.320072\u001b[0m\n",
      "\u001b[31m[19:31:52] src/tree/updater_prune.cc:74: tree pruning end, 1 roots, 20 extra nodes, 2 pruned nodes, max_depth=6\u001b[0m\n",
      "\u001b[31m[132]#011train-rmse:0.215562#011validation-rmse:0.319977\u001b[0m\n",
      "\u001b[31m[19:31:54] src/tree/updater_prune.cc:74: tree pruning end, 1 roots, 30 extra nodes, 2 pruned nodes, max_depth=6\u001b[0m\n",
      "\u001b[31m[133]#011train-rmse:0.215121#011validation-rmse:0.319923\u001b[0m\n",
      "\u001b[31m[19:31:55] src/tree/updater_prune.cc:74: tree pruning end, 1 roots, 30 extra nodes, 6 pruned nodes, max_depth=6\u001b[0m\n",
      "\u001b[31m[134]#011train-rmse:0.214585#011validation-rmse:0.320042\u001b[0m\n",
      "\u001b[31m[19:31:57] src/tree/updater_prune.cc:74: tree pruning end, 1 roots, 26 extra nodes, 2 pruned nodes, max_depth=6\u001b[0m\n",
      "\u001b[31m[135]#011train-rmse:0.214212#011validation-rmse:0.319915\u001b[0m\n",
      "\u001b[31m[19:31:58] src/tree/updater_prune.cc:74: tree pruning end, 1 roots, 24 extra nodes, 6 pruned nodes, max_depth=6\u001b[0m\n",
      "\u001b[31m[136]#011train-rmse:0.213807#011validation-rmse:0.319838\u001b[0m\n",
      "\u001b[31m[19:31:59] src/tree/updater_prune.cc:74: tree pruning end, 1 roots, 22 extra nodes, 2 pruned nodes, max_depth=6\u001b[0m\n",
      "\u001b[31m[137]#011train-rmse:0.213336#011validation-rmse:0.319632\u001b[0m\n",
      "\u001b[31m[19:32:01] src/tree/updater_prune.cc:74: tree pruning end, 1 roots, 20 extra nodes, 4 pruned nodes, max_depth=6\u001b[0m\n",
      "\u001b[31m[138]#011train-rmse:0.212986#011validation-rmse:0.319213\u001b[0m\n",
      "\u001b[31m[19:32:02] src/tree/updater_prune.cc:74: tree pruning end, 1 roots, 24 extra nodes, 8 pruned nodes, max_depth=6\u001b[0m\n",
      "\u001b[31m[139]#011train-rmse:0.212603#011validation-rmse:0.319296\u001b[0m\n",
      "\u001b[31m[19:32:04] src/tree/updater_prune.cc:74: tree pruning end, 1 roots, 22 extra nodes, 2 pruned nodes, max_depth=6\u001b[0m\n",
      "\u001b[31m[140]#011train-rmse:0.212159#011validation-rmse:0.319274\u001b[0m\n",
      "\u001b[31m[19:32:05] src/tree/updater_prune.cc:74: tree pruning end, 1 roots, 18 extra nodes, 2 pruned nodes, max_depth=6\u001b[0m\n",
      "\u001b[31m[141]#011train-rmse:0.211825#011validation-rmse:0.319284\u001b[0m\n",
      "\u001b[31m[19:32:07] src/tree/updater_prune.cc:74: tree pruning end, 1 roots, 28 extra nodes, 6 pruned nodes, max_depth=6\u001b[0m\n",
      "\u001b[31m[142]#011train-rmse:0.211187#011validation-rmse:0.31921\u001b[0m\n",
      "\u001b[31m[19:32:08] src/tree/updater_prune.cc:74: tree pruning end, 1 roots, 22 extra nodes, 0 pruned nodes, max_depth=6\u001b[0m\n",
      "\u001b[31m[143]#011train-rmse:0.210764#011validation-rmse:0.319162\u001b[0m\n",
      "\u001b[31m[19:32:10] src/tree/updater_prune.cc:74: tree pruning end, 1 roots, 40 extra nodes, 2 pruned nodes, max_depth=6\u001b[0m\n",
      "\u001b[31m[144]#011train-rmse:0.210101#011validation-rmse:0.319255\u001b[0m\n",
      "\u001b[31m[19:32:11] src/tree/updater_prune.cc:74: tree pruning end, 1 roots, 36 extra nodes, 4 pruned nodes, max_depth=6\u001b[0m\n",
      "\u001b[31m[145]#011train-rmse:0.209397#011validation-rmse:0.319159\u001b[0m\n",
      "\u001b[31m[19:32:12] src/tree/updater_prune.cc:74: tree pruning end, 1 roots, 38 extra nodes, 2 pruned nodes, max_depth=6\u001b[0m\n",
      "\u001b[31m[146]#011train-rmse:0.20866#011validation-rmse:0.31884\u001b[0m\n",
      "\u001b[31m[19:32:14] src/tree/updater_prune.cc:74: tree pruning end, 1 roots, 20 extra nodes, 4 pruned nodes, max_depth=6\u001b[0m\n",
      "\u001b[31m[147]#011train-rmse:0.208326#011validation-rmse:0.318798\u001b[0m\n",
      "\u001b[31m[19:32:15] src/tree/updater_prune.cc:74: tree pruning end, 1 roots, 28 extra nodes, 8 pruned nodes, max_depth=6\u001b[0m\n",
      "\u001b[31m[148]#011train-rmse:0.207806#011validation-rmse:0.318635\u001b[0m\n",
      "\u001b[31m[19:32:17] src/tree/updater_prune.cc:74: tree pruning end, 1 roots, 20 extra nodes, 4 pruned nodes, max_depth=6\u001b[0m\n",
      "\u001b[31m[149]#011train-rmse:0.20742#011validation-rmse:0.318521\u001b[0m\n",
      "\u001b[31m[19:32:18] src/tree/updater_prune.cc:74: tree pruning end, 1 roots, 24 extra nodes, 6 pruned nodes, max_depth=6\u001b[0m\n",
      "\u001b[31m[150]#011train-rmse:0.207078#011validation-rmse:0.318357\u001b[0m\n",
      "\u001b[31m[19:32:20] src/tree/updater_prune.cc:74: tree pruning end, 1 roots, 24 extra nodes, 0 pruned nodes, max_depth=6\u001b[0m\n",
      "\u001b[31m[151]#011train-rmse:0.206605#011validation-rmse:0.318187\u001b[0m\n",
      "\u001b[31m[19:32:21] src/tree/updater_prune.cc:74: tree pruning end, 1 roots, 32 extra nodes, 2 pruned nodes, max_depth=6\u001b[0m\n",
      "\u001b[31m[152]#011train-rmse:0.206119#011validation-rmse:0.318013\u001b[0m\n",
      "\u001b[31m[19:32:22] src/tree/updater_prune.cc:74: tree pruning end, 1 roots, 40 extra nodes, 2 pruned nodes, max_depth=6\u001b[0m\n",
      "\u001b[31m[153]#011train-rmse:0.20557#011validation-rmse:0.317874\u001b[0m\n",
      "\u001b[31m[19:32:24] src/tree/updater_prune.cc:74: tree pruning end, 1 roots, 28 extra nodes, 2 pruned nodes, max_depth=6\u001b[0m\n",
      "\u001b[31m[154]#011train-rmse:0.205303#011validation-rmse:0.317802\u001b[0m\n",
      "\u001b[31m[19:32:25] src/tree/updater_prune.cc:74: tree pruning end, 1 roots, 22 extra nodes, 4 pruned nodes, max_depth=6\u001b[0m\n",
      "\u001b[31m[155]#011train-rmse:0.204879#011validation-rmse:0.317645\u001b[0m\n",
      "\u001b[31m[19:32:27] src/tree/updater_prune.cc:74: tree pruning end, 1 roots, 26 extra nodes, 4 pruned nodes, max_depth=6\u001b[0m\n",
      "\u001b[31m[156]#011train-rmse:0.204511#011validation-rmse:0.317494\u001b[0m\n",
      "\u001b[31m[19:32:28] src/tree/updater_prune.cc:74: tree pruning end, 1 roots, 32 extra nodes, 2 pruned nodes, max_depth=6\u001b[0m\n",
      "\u001b[31m[157]#011train-rmse:0.203813#011validation-rmse:0.317401\u001b[0m\n",
      "\u001b[31m[19:32:30] src/tree/updater_prune.cc:74: tree pruning end, 1 roots, 38 extra nodes, 2 pruned nodes, max_depth=6\u001b[0m\n",
      "\u001b[31m[158]#011train-rmse:0.20313#011validation-rmse:0.317594\u001b[0m\n",
      "\u001b[31m[19:32:31] src/tree/updater_prune.cc:74: tree pruning end, 1 roots, 40 extra nodes, 2 pruned nodes, max_depth=6\u001b[0m\n",
      "\u001b[31m[159]#011train-rmse:0.202459#011validation-rmse:0.317548\u001b[0m\n",
      "\u001b[31m[19:32:33] src/tree/updater_prune.cc:74: tree pruning end, 1 roots, 20 extra nodes, 2 pruned nodes, max_depth=6\u001b[0m\n",
      "\u001b[31m[160]#011train-rmse:0.202186#011validation-rmse:0.317273\u001b[0m\n",
      "\u001b[31m[19:32:34] src/tree/updater_prune.cc:74: tree pruning end, 1 roots, 38 extra nodes, 6 pruned nodes, max_depth=6\u001b[0m\n",
      "\u001b[31m[161]#011train-rmse:0.201557#011validation-rmse:0.317166\u001b[0m\n",
      "\u001b[31m[19:32:35] src/tree/updater_prune.cc:74: tree pruning end, 1 roots, 22 extra nodes, 0 pruned nodes, max_depth=6\u001b[0m\n",
      "\u001b[31m[162]#011train-rmse:0.201275#011validation-rmse:0.317149\u001b[0m\n",
      "\u001b[31m[19:32:37] src/tree/updater_prune.cc:74: tree pruning end, 1 roots, 42 extra nodes, 4 pruned nodes, max_depth=6\u001b[0m\n",
      "\u001b[31m[163]#011train-rmse:0.200474#011validation-rmse:0.316973\u001b[0m\n",
      "\u001b[31m[19:32:38] src/tree/updater_prune.cc:74: tree pruning end, 1 roots, 22 extra nodes, 2 pruned nodes, max_depth=6\u001b[0m\n",
      "\u001b[31m[164]#011train-rmse:0.200109#011validation-rmse:0.316724\u001b[0m\n",
      "\u001b[31m[19:32:40] src/tree/updater_prune.cc:74: tree pruning end, 1 roots, 40 extra nodes, 6 pruned nodes, max_depth=6\u001b[0m\n",
      "\u001b[31m[165]#011train-rmse:0.199597#011validation-rmse:0.316445\u001b[0m\n",
      "\u001b[31m[19:32:41] src/tree/updater_prune.cc:74: tree pruning end, 1 roots, 18 extra nodes, 0 pruned nodes, max_depth=6\u001b[0m\n",
      "\u001b[31m[166]#011train-rmse:0.199347#011validation-rmse:0.316416\u001b[0m\n",
      "\u001b[31m[19:32:43] src/tree/updater_prune.cc:74: tree pruning end, 1 roots, 26 extra nodes, 0 pruned nodes, max_depth=6\u001b[0m\n",
      "\u001b[31m[167]#011train-rmse:0.199079#011validation-rmse:0.316131\u001b[0m\n",
      "\u001b[31m[19:32:44] src/tree/updater_prune.cc:74: tree pruning end, 1 roots, 16 extra nodes, 2 pruned nodes, max_depth=6\u001b[0m\n",
      "\u001b[31m[168]#011train-rmse:0.198811#011validation-rmse:0.315952\u001b[0m\n",
      "\u001b[31m[19:32:45] src/tree/updater_prune.cc:74: tree pruning end, 1 roots, 32 extra nodes, 6 pruned nodes, max_depth=6\u001b[0m\n",
      "\u001b[31m[169]#011train-rmse:0.198325#011validation-rmse:0.31587\u001b[0m\n",
      "\u001b[31m[19:32:47] src/tree/updater_prune.cc:74: tree pruning end, 1 roots, 34 extra nodes, 2 pruned nodes, max_depth=6\u001b[0m\n",
      "\u001b[31m[170]#011train-rmse:0.197814#011validation-rmse:0.316062\u001b[0m\n",
      "\u001b[31m[19:32:48] src/tree/updater_prune.cc:74: tree pruning end, 1 roots, 16 extra nodes, 4 pruned nodes, max_depth=6\u001b[0m\n",
      "\u001b[31m[171]#011train-rmse:0.197554#011validation-rmse:0.316103\u001b[0m\n",
      "\u001b[31m[19:32:50] src/tree/updater_prune.cc:74: tree pruning end, 1 roots, 36 extra nodes, 6 pruned nodes, max_depth=6\u001b[0m\n",
      "\u001b[31m[172]#011train-rmse:0.196826#011validation-rmse:0.316224\u001b[0m\n",
      "\u001b[31m[19:32:51] src/tree/updater_prune.cc:74: tree pruning end, 1 roots, 20 extra nodes, 4 pruned nodes, max_depth=6\u001b[0m\n",
      "\u001b[31m[173]#011train-rmse:0.196575#011validation-rmse:0.316255\u001b[0m\n",
      "\u001b[31m[19:32:52] src/tree/updater_prune.cc:74: tree pruning end, 1 roots, 30 extra nodes, 0 pruned nodes, max_depth=6\u001b[0m\n",
      "\u001b[31m[174]#011train-rmse:0.195939#011validation-rmse:0.316253\u001b[0m\n",
      "\u001b[31m[19:32:54] src/tree/updater_prune.cc:74: tree pruning end, 1 roots, 24 extra nodes, 6 pruned nodes, max_depth=6\u001b[0m\n",
      "\u001b[31m[175]#011train-rmse:0.195679#011validation-rmse:0.31616\u001b[0m\n",
      "\u001b[31m[19:32:55] src/tree/updater_prune.cc:74: tree pruning end, 1 roots, 28 extra nodes, 4 pruned nodes, max_depth=6\u001b[0m\n",
      "\u001b[31m[176]#011train-rmse:0.195217#011validation-rmse:0.315992\u001b[0m\n",
      "\u001b[31m[19:32:57] src/tree/updater_prune.cc:74: tree pruning end, 1 roots, 30 extra nodes, 0 pruned nodes, max_depth=6\u001b[0m\n",
      "\u001b[31m[177]#011train-rmse:0.194657#011validation-rmse:0.316016\u001b[0m\n",
      "\u001b[31m[19:32:58] src/tree/updater_prune.cc:74: tree pruning end, 1 roots, 32 extra nodes, 2 pruned nodes, max_depth=6\u001b[0m\n",
      "\u001b[31m[178]#011train-rmse:0.194148#011validation-rmse:0.315863\u001b[0m\n",
      "\u001b[31m[19:33:00] src/tree/updater_prune.cc:74: tree pruning end, 1 roots, 22 extra nodes, 6 pruned nodes, max_depth=6\u001b[0m\n",
      "\u001b[31m[179]#011train-rmse:0.193865#011validation-rmse:0.315784\u001b[0m\n",
      "\u001b[31m[19:33:01] src/tree/updater_prune.cc:74: tree pruning end, 1 roots, 20 extra nodes, 0 pruned nodes, max_depth=6\u001b[0m\n",
      "\u001b[31m[180]#011train-rmse:0.193495#011validation-rmse:0.315804\u001b[0m\n",
      "\u001b[31m[19:33:02] src/tree/updater_prune.cc:74: tree pruning end, 1 roots, 42 extra nodes, 10 pruned nodes, max_depth=6\u001b[0m\n",
      "\u001b[31m[181]#011train-rmse:0.192719#011validation-rmse:0.315545\u001b[0m\n",
      "\u001b[31m[19:33:04] src/tree/updater_prune.cc:74: tree pruning end, 1 roots, 34 extra nodes, 12 pruned nodes, max_depth=6\u001b[0m\n",
      "\u001b[31m[182]#011train-rmse:0.192294#011validation-rmse:0.315486\u001b[0m\n",
      "\u001b[31m[19:33:05] src/tree/updater_prune.cc:74: tree pruning end, 1 roots, 52 extra nodes, 6 pruned nodes, max_depth=6\u001b[0m\n",
      "\u001b[31m[183]#011train-rmse:0.191246#011validation-rmse:0.315417\u001b[0m\n",
      "\u001b[31m[19:33:07] src/tree/updater_prune.cc:74: tree pruning end, 1 roots, 30 extra nodes, 0 pruned nodes, max_depth=6\u001b[0m\n",
      "\u001b[31m[184]#011train-rmse:0.190814#011validation-rmse:0.315254\u001b[0m\n",
      "\u001b[31m[19:33:08] src/tree/updater_prune.cc:74: tree pruning end, 1 roots, 36 extra nodes, 10 pruned nodes, max_depth=6\u001b[0m\n",
      "\u001b[31m[185]#011train-rmse:0.190271#011validation-rmse:0.315155\u001b[0m\n",
      "\u001b[31m[19:33:09] src/tree/updater_prune.cc:74: tree pruning end, 1 roots, 20 extra nodes, 8 pruned nodes, max_depth=6\u001b[0m\n",
      "\u001b[31m[186]#011train-rmse:0.189923#011validation-rmse:0.315178\u001b[0m\n",
      "\u001b[31m[19:33:11] src/tree/updater_prune.cc:74: tree pruning end, 1 roots, 28 extra nodes, 4 pruned nodes, max_depth=6\u001b[0m\n",
      "\u001b[31m[187]#011train-rmse:0.189423#011validation-rmse:0.315109\u001b[0m\n",
      "\u001b[31m[19:33:12] src/tree/updater_prune.cc:74: tree pruning end, 1 roots, 32 extra nodes, 4 pruned nodes, max_depth=6\u001b[0m\n",
      "\u001b[31m[188]#011train-rmse:0.188911#011validation-rmse:0.315215\u001b[0m\n",
      "\u001b[31m[19:33:14] src/tree/updater_prune.cc:74: tree pruning end, 1 roots, 44 extra nodes, 6 pruned nodes, max_depth=6\u001b[0m\n",
      "\u001b[31m[189]#011train-rmse:0.188341#011validation-rmse:0.315174\u001b[0m\n",
      "\u001b[31m[19:33:15] src/tree/updater_prune.cc:74: tree pruning end, 1 roots, 28 extra nodes, 0 pruned nodes, max_depth=6\u001b[0m\n",
      "\u001b[31m[190]#011train-rmse:0.187902#011validation-rmse:0.315135\u001b[0m\n",
      "\u001b[31m[19:33:16] src/tree/updater_prune.cc:74: tree pruning end, 1 roots, 22 extra nodes, 6 pruned nodes, max_depth=6\u001b[0m\n",
      "\u001b[31m[191]#011train-rmse:0.18759#011validation-rmse:0.315168\u001b[0m\n",
      "\u001b[31m[19:33:18] src/tree/updater_prune.cc:74: tree pruning end, 1 roots, 28 extra nodes, 4 pruned nodes, max_depth=6\u001b[0m\n",
      "\u001b[31m[192]#011train-rmse:0.18723#011validation-rmse:0.315084\u001b[0m\n",
      "\u001b[31m[19:33:19] src/tree/updater_prune.cc:74: tree pruning end, 1 roots, 30 extra nodes, 14 pruned nodes, max_depth=6\u001b[0m\n",
      "\u001b[31m[193]#011train-rmse:0.186826#011validation-rmse:0.315121\u001b[0m\n",
      "\u001b[31m[19:33:21] src/tree/updater_prune.cc:74: tree pruning end, 1 roots, 16 extra nodes, 4 pruned nodes, max_depth=6\u001b[0m\n",
      "\u001b[31m[194]#011train-rmse:0.186552#011validation-rmse:0.314942\u001b[0m\n",
      "\u001b[31m[19:33:22] src/tree/updater_prune.cc:74: tree pruning end, 1 roots, 16 extra nodes, 4 pruned nodes, max_depth=6\u001b[0m\n",
      "\u001b[31m[195]#011train-rmse:0.186346#011validation-rmse:0.314968\u001b[0m\n",
      "\u001b[31m[19:33:24] src/tree/updater_prune.cc:74: tree pruning end, 1 roots, 24 extra nodes, 2 pruned nodes, max_depth=6\u001b[0m\n",
      "\u001b[31m[196]#011train-rmse:0.185959#011validation-rmse:0.314933\u001b[0m\n",
      "\u001b[31m[19:33:25] src/tree/updater_prune.cc:74: tree pruning end, 1 roots, 22 extra nodes, 4 pruned nodes, max_depth=6\u001b[0m\n",
      "\u001b[31m[197]#011train-rmse:0.185728#011validation-rmse:0.314896\u001b[0m\n",
      "\u001b[31m[19:33:26] src/tree/updater_prune.cc:74: tree pruning end, 1 roots, 34 extra nodes, 2 pruned nodes, max_depth=6\u001b[0m\n",
      "\u001b[31m[198]#011train-rmse:0.185197#011validation-rmse:0.314896\u001b[0m\n",
      "\u001b[31m[19:33:28] src/tree/updater_prune.cc:74: tree pruning end, 1 roots, 42 extra nodes, 10 pruned nodes, max_depth=6\u001b[0m\n",
      "\u001b[31m[199]#011train-rmse:0.184414#011validation-rmse:0.314787\u001b[0m\n"
     ]
    },
    {
     "name": "stdout",
     "output_type": "stream",
     "text": [
      "Billable seconds: 343\n"
     ]
    }
   ],
   "source": [
    "# TODO: Create a new estimator object attached to the best training job found during hyperparameter tuning\n",
    "\n",
    "xgb_attached = sagemaker.estimator.Estimator.attach(xgb_hyperparameter_tuner.best_training_job())\n"
   ]
  },
  {
   "cell_type": "markdown",
   "metadata": {},
   "source": [
    "Now that we have an estimator object attached to the correct training job, we can proceed as we normally would and create a transformer object."
   ]
  },
  {
   "cell_type": "code",
   "execution_count": 27,
   "metadata": {},
   "outputs": [
    {
     "name": "stderr",
     "output_type": "stream",
     "text": [
      "INFO:sagemaker:Creating model with name: xgboost-190418-1925-002-b7d44e55\n"
     ]
    }
   ],
   "source": [
    "# TODO: Create a transformer object from the attached estimator. Using an instance count of 1 and an instance type of ml.m4.xlarge\n",
    "#       should be more than enough.\n",
    "\n",
    "xgb_transformer = xgb_attached.transformer(instance_count = 1, instance_type = 'ml.m4.xlarge')\n"
   ]
  },
  {
   "cell_type": "markdown",
   "metadata": {},
   "source": [
    "Next we actually perform the transform job. When doing so we need to make sure to specify the type of data we are sending so that it is serialized correctly in the background. In our case we are providing our model with csv data so we specify `text/csv`. Also, if the test data that we have provided is too large to process all at once then we need to specify how the data file should be split up. Since each line is a single entry in our data set we tell SageMaker that it can split the input on each line."
   ]
  },
  {
   "cell_type": "code",
   "execution_count": 45,
   "metadata": {
    "scrolled": true
   },
   "outputs": [
    {
     "name": "stderr",
     "output_type": "stream",
     "text": [
      "INFO:sagemaker:Creating transform job with name: xgboost-190418-1925-002-b7d44e55-2019-04-19-01-27-13-071\n"
     ]
    }
   ],
   "source": [
    "# TODO: Start the transform job. Make sure to specify the content type and the split type of the test data.\n",
    "xgb_transformer.transform(test_location, content_type='text/csv', split_type='Line')"
   ]
  },
  {
   "cell_type": "markdown",
   "metadata": {},
   "source": [
    "Currently the transform job is running but it is doing so in the background. Since we wish to wait until the transform job is done and we would like a bit of feedback we can run the `wait()` method."
   ]
  },
  {
   "cell_type": "code",
   "execution_count": 46,
   "metadata": {},
   "outputs": [
    {
     "name": "stdout",
     "output_type": "stream",
     "text": [
      "..................................................!\n"
     ]
    }
   ],
   "source": [
    "xgb_transformer.wait()"
   ]
  },
  {
   "cell_type": "markdown",
   "metadata": {},
   "source": [
    "Now the transform job has executed and the result, the estimated sentiment of each review, has been saved on S3. Since we would rather work on this file locally we can perform a bit of notebook magic to copy the file to the `data_dir`."
   ]
  },
  {
   "cell_type": "code",
   "execution_count": 47,
   "metadata": {},
   "outputs": [
    {
     "name": "stdout",
     "output_type": "stream",
     "text": [
      "Completed 256.0 KiB/373.5 KiB (2.3 MiB/s) with 1 file(s) remaining\r",
      "Completed 373.5 KiB/373.5 KiB (3.3 MiB/s) with 1 file(s) remaining\r",
      "download: s3://sagemaker-us-west-2-081898430078/xgboost-190418-1925-002-b7d44e55-2019-04-19-00-21-04-326/test.csv.out to ../data/xgboost/test.csv.out\r\n"
     ]
    }
   ],
   "source": [
    "!aws s3 cp --recursive $xgb_transformer.output_path $data_dir"
   ]
  },
  {
   "cell_type": "markdown",
   "metadata": {},
   "source": [
    "The last step is now to read in the output from our model, convert the output to something a little more usable, in this case we want the sentiment to be either `1` (positive) or `0` (negative), and then compare to the ground truth labels."
   ]
  },
  {
   "cell_type": "code",
   "execution_count": 48,
   "metadata": {},
   "outputs": [],
   "source": [
    "predictions = pd.read_csv(os.path.join(data_dir, 'test.csv.out'), header=None)\n",
    "predictions = [round(num) for num in predictions.squeeze().values]"
   ]
  },
  {
   "cell_type": "code",
   "execution_count": 49,
   "metadata": {},
   "outputs": [
    {
     "data": {
      "text/plain": [
       "0.86688"
      ]
     },
     "execution_count": 49,
     "metadata": {},
     "output_type": "execute_result"
    }
   ],
   "source": [
    "from sklearn.metrics import accuracy_score\n",
    "accuracy_score(test_y, predictions)"
   ]
  },
  {
   "cell_type": "markdown",
   "metadata": {},
   "source": [
    "## Optional: Clean up\n",
    "\n",
    "The default notebook instance on SageMaker doesn't have a lot of excess disk space available. As you continue to complete and execute notebooks you will eventually fill up this disk space, leading to errors which can be difficult to diagnose. Once you are completely finished using a notebook it is a good idea to remove the files that you created along the way. Of course, you can do this from the terminal or from the notebook hub if you would like. The cell below contains some commands to clean up the created files from within the notebook."
   ]
  },
  {
   "cell_type": "code",
   "execution_count": 50,
   "metadata": {},
   "outputs": [],
   "source": [
    "# First we will remove all of the files contained in the data_dir directory\n",
    "!rm $data_dir/*\n",
    "\n",
    "# And then we delete the directory itself\n",
    "!rmdir $data_dir\n",
    "\n",
    "# Similarly we will remove the files in the cache_dir directory and the directory itself\n",
    "!rm $cache_dir/*\n",
    "!rmdir $cache_dir"
   ]
  },
  {
   "cell_type": "code",
   "execution_count": null,
   "metadata": {},
   "outputs": [],
   "source": []
  }
 ],
 "metadata": {
  "kernelspec": {
   "display_name": "conda_python3",
   "language": "python",
   "name": "conda_python3"
  },
  "language_info": {
   "codemirror_mode": {
    "name": "ipython",
    "version": 3
   },
   "file_extension": ".py",
   "mimetype": "text/x-python",
   "name": "python",
   "nbconvert_exporter": "python",
   "pygments_lexer": "ipython3",
   "version": "3.6.5"
  }
 },
 "nbformat": 4,
 "nbformat_minor": 2
}
